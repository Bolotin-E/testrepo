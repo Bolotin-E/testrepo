{
 "cells": [
  {
   "cell_type": "markdown",
   "id": "01360343-832e-4d2c-ab5b-58ff196f107f",
   "metadata": {},
   "source": [
    "# Data Science Tools and Ecosystem"
   ]
  },
  {
   "cell_type": "markdown",
   "id": "fcf09419-9295-4ed8-ae9c-0067b6901b92",
   "metadata": {},
   "source": [
    "In this notebook, Data Science Tools and Ecosystem are summarized."
   ]
  },
  {
   "cell_type": "markdown",
   "id": "2876e995-cda7-4a56-9aa3-65fbf327c8de",
   "metadata": {},
   "source": [
    "***Objectives:***\n",
    "* Describe the relevant features of open-source tools.\n",
    "* Identify the users and benefits of Python.\n",
    "* Describe the basic Jupyter architecture.\n",
    "* List the various libraries: scientific, visualization, machine learning, and deep learning.\n",
    "* Describe the relevant features of open-source tools."
   ]
  },
  {
   "cell_type": "markdown",
   "id": "0f82297a-b4de-4378-ab27-81e4804e1dc9",
   "metadata": {},
   "source": [
    "Some of the popular languages that Data Scientists use are:\n",
    "1. Python\n",
    "2. R\n",
    "3. SQL\n",
    "4. Java\n",
    "5. Julia"
   ]
  },
  {
   "cell_type": "markdown",
   "id": "0dc7dd0d-2a10-4025-a5d8-c3c930d4006d",
   "metadata": {},
   "source": [
    "Some of the commonly used libraries used by Data Scientists include:\n",
    "1. NumPy\n",
    "2. Keras\n",
    "3. Pandas\n",
    "4. PyTorch\n",
    "5. SciPy"
   ]
  },
  {
   "cell_type": "markdown",
   "id": "71ffd652-dd5a-4345-b2e3-771a60eed4ea",
   "metadata": {},
   "source": [
    "### Below are a few examples of evaluating arithmetic expressions in Python"
   ]
  },
  {
   "cell_type": "code",
   "execution_count": 6,
   "id": "1f45be67-6e72-4454-8f7f-d19a857f6e4f",
   "metadata": {},
   "outputs": [
    {
     "data": {
      "text/plain": [
       "17"
      ]
     },
     "execution_count": 6,
     "metadata": {},
     "output_type": "execute_result"
    }
   ],
   "source": [
    "#This a simple arithmetic expression to multiply and then add integers\n",
    "(3*4)+5"
   ]
  },
  {
   "cell_type": "code",
   "execution_count": 10,
   "id": "742028bf-2603-40b5-aeac-4ee6548e1ba0",
   "metadata": {},
   "outputs": [
    {
     "data": {
      "text/plain": [
       "3.3333333333333335"
      ]
     },
     "execution_count": 10,
     "metadata": {},
     "output_type": "execute_result"
    }
   ],
   "source": [
    "#This will convert 200 minutes to hours by diving by 60\n",
    "200/60"
   ]
  },
  {
   "cell_type": "markdown",
   "id": "9c95ec74-fe33-48c4-a495-1991b8556c70",
   "metadata": {},
   "source": [
    "## Author\n",
    "Elena Bolotin"
   ]
  }
 ],
 "metadata": {
  "kernelspec": {
   "display_name": "Python 3 (ipykernel)",
   "language": "python",
   "name": "python3"
  },
  "language_info": {
   "codemirror_mode": {
    "name": "ipython",
    "version": 3
   },
   "file_extension": ".py",
   "mimetype": "text/x-python",
   "name": "python",
   "nbconvert_exporter": "python",
   "pygments_lexer": "ipython3",
   "version": "3.11.4"
  }
 },
 "nbformat": 4,
 "nbformat_minor": 5
}
